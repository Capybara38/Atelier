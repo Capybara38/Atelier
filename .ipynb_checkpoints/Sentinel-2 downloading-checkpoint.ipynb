{
 "cells": [
  {
   "cell_type": "markdown",
   "metadata": {},
   "source": [
    "## Sentinel-2 Téléchargement et Traitements\n",
    "\n",
    "### Pourquoi Sentinel-2\n",
    "- Suivi de la végétation à haute résolution (10 mètres) \n",
    "- Images au niveau 2A => \"Le produit de Niveau 2A est une image monodate ortho-rectifiée, exprimée en réflectance de surface, accompagnée d'un masque de nuages/ombres de nuages/neige/eau\"\n",
    "\n",
    "### Utilisation \n",
    "- Suivi de la végétation avec le NDVI\n",
    "- Suivi de l'occupation du sol \n",
    "    \n",
    "\n",
    "\n",
    "###### Informations\n",
    "<i><span style=\"color:green\"> ## je suis un commentaire </span></i>\n",
    "<br>\n",
    "<b><span style=\"color:green\"> je suis une fonction </span></b>\n",
    "<br>\n",
    "<span style=\"color:red\"> \"je suis une chaine de caractère\" </span>"
   ]
  },
  {
   "cell_type": "markdown",
   "metadata": {},
   "source": [
    "### Téléchargement \n",
    "\n",
    "informations sur les bandes \n",
    "http://www.gdal.org/frmt_sentinel2.html\n",
    "\n",
    "source : https://github.com/olivierhagolle/theia_download \n",
    "<br>\n",
    "Code créé par Olivier Hagolle\n",
    "\n",
    "| Paramètres | valeur | Description |\n",
    "|:-----------:|:------:|:-----------:|\n",
    "| -t | 31TFK | ID de la tuile |\n",
    "| -c | SENTINEL2 | Capteur |\n",
    "| -a | config_theia.cfg | fichier contenant les identifiants |\n",
    "|-d | | date de début |\n",
    "| -f | | date de fin |\n",
    "\n"
   ]
  },
  {
   "cell_type": "code",
   "execution_count": null,
   "metadata": {
    "collapsed": true
   },
   "outputs": [],
   "source": [
    "## telechargement de images entre mars et octobre 2015 \n",
    "import os\n",
    "os.system(\"python ../theia_download/theia_download.py -t T31TFK  -c SENTINEL2 -a config_theia.cfg -d 2015-03-01 -f 2015-11-01\")\n",
    "\n",
    "## fichier config modifié avec login Gwen\n",
    "## file theia_download-master à la racine \n",
    "## se mettre dans le file pour lancer commande \n",
    "## Téléchargement des images en dehors du notebook jupyter \n"
   ]
  },
  {
   "cell_type": "markdown",
   "metadata": {},
   "source": [
    "### Organisation des données à utilisées \n",
    "\n",
    "1. Dézipper le fichier dans un fichier temporaire \n",
    "2. Déplacer les bandes d'intérêt dans un fichier raw_data \n",
    "3. Supprimer le fichier temp pour optimiser l'espace de stockage "
   ]
  },
  {
   "cell_type": "code",
   "execution_count": null,
   "metadata": {
    "collapsed": true
   },
   "outputs": [],
   "source": [
    "##Dézipper les images \n",
    "## dans theia_download on dezip dans temp\n",
    "\n",
    "unzip file.zip -d ../temp \n",
    "\n",
    "##move les bandes B2 B3 B4 B8 dans raw_data\n",
    "\n",
    "mv -t ../raw_data *B2.tif *B3.tif *B4.tif *B8.tif\n",
    "\n",
    "## delete files dans temp\n",
    "\n",
    "rm -rf ../temp/*\n"
   ]
  },
  {
   "cell_type": "markdown",
   "metadata": {},
   "source": [
    "### Pré-traitement des données \n",
    "\n",
    "- Calcul du NDVI\n",
    "\n",
    "fonction BandMath \n",
    "<br>\n",
    "https://www.orfeo-toolbox.org/CookBook/Applications/app_BandMath.html\n",
    "\n",
    "Paramètres\n",
    "\n",
    "| Paramètre | valeur | description |\n",
    "|:---------:|:------:|:-----------:|\n",
    "| il | | |\n",
    "| out | | |\n",
    "| ram | | | \n",
    "|exp | | |\n",
    "| inxml | | |\n",
    "| outxml | | |\n"
   ]
  },
  {
   "cell_type": "code",
   "execution_count": null,
   "metadata": {
    "collapsed": true
   },
   "outputs": [],
   "source": [
    "##Faire le calcul du NDVI avec les bandes B4 (rouge) et B8 (Infrarouge)\n",
    "##NDVI = (NIR - Red) / (NIR + Red)\n",
    "\n",
    "bandMath \n"
   ]
  },
  {
   "cell_type": "markdown",
   "metadata": {},
   "source": [
    "- Découpe et reprojection "
   ]
  },
  {
   "cell_type": "code",
   "execution_count": null,
   "metadata": {
    "collapsed": true
   },
   "outputs": [],
   "source": []
  }
 ],
 "metadata": {
  "kernelspec": {
   "display_name": "Python 2",
   "language": "python",
   "name": "python2"
  },
  "language_info": {
   "codemirror_mode": {
    "name": "ipython",
    "version": 2
   },
   "file_extension": ".py",
   "mimetype": "text/x-python",
   "name": "python",
   "nbconvert_exporter": "python",
   "pygments_lexer": "ipython2",
   "version": "2.7.13"
  }
 },
 "nbformat": 4,
 "nbformat_minor": 2
}
