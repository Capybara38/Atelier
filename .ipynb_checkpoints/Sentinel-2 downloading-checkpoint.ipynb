{
 "cells": [
  {
   "cell_type": "markdown",
   "metadata": {},
   "source": [
    "### téléchargement des images Sentinel-2\n",
    "\n",
    "informations sur les bandes \n",
    "http://www.gdal.org/frmt_sentinel2.html\n",
    "\n",
    "source : https://github.com/olivierhagolle/theia_download \n",
    "<br>\n",
    "Code créé par Olivier Hagolle\n",
    "\n",
    "| Paramètres | valeur | Description |\n",
    "|:-----------:|:------:|:-----------:|\n",
    "| -t | 31TFK | ID de la tuile |\n",
    "| -c | SENTINEL2 | Capteur |\n",
    "| -a | config_theia.cfg | fichier contenant les identifiants |\n",
    "|-d | | date de début |\n",
    "| -f | | date de fin |\n",
    "\n"
   ]
  },
  {
   "cell_type": "code",
   "execution_count": null,
   "metadata": {
    "collapsed": true
   },
   "outputs": [],
   "source": [
    "## telechargement de images entre mars et octobre 2015 \n",
    "python ./theia_download.py -t T31TFK  -c SENTINEL2 -a config_theia.cfg -d 2015-03-01 -f 2015-11-01\n"
   ]
  },
  {
   "cell_type": "code",
   "execution_count": null,
   "metadata": {
    "collapsed": true
   },
   "outputs": [],
   "source": [
    "##blablaca marche pas\n",
    "\n"
   ]
  },
  {
   "cell_type": "code",
   "execution_count": null,
   "metadata": {},
   "outputs": [],
   "source": [
    "##Telecharger les fichiers sur le Github de Olivier Hagolle\n",
    "\n",
    "fichier theia_download-master\n",
    "\n"
   ]
  },
  {
   "cell_type": "code",
   "execution_count": null,
   "metadata": {},
   "outputs": [],
   "source": [
    "##Changer les identifiants dans le fichier configuration \n"
   ]
  },
  {
   "cell_type": "code",
   "execution_count": null,
   "metadata": {
    "collapsed": true
   },
   "outputs": [],
   "source": [
    "##Telecharger les images Sentinel pour chaque années de Mars à Octobre "
   ]
  },
  {
   "cell_type": "code",
   "execution_count": null,
   "metadata": {
    "collapsed": true
   },
   "outputs": [],
   "source": [
    "##Dézipper les images \n",
    "##Sélectionner les bandes B2 B3 B4 B8\n",
    "##Faire le calcul du NDVI avec les bandes B4 (rouge) et B8 (Infrarouge)\n",
    "##NDVI = (NIR - Red) / (NIR + Red)\n",
    "## enregistrement des bandes NDVI dans un nouveau fichier par année "
   ]
  }
 ],
 "metadata": {
  "kernelspec": {
   "display_name": "Python 2",
   "language": "python",
   "name": "python2"
  },
  "language_info": {
   "codemirror_mode": {
    "name": "ipython",
    "version": 2
   },
   "file_extension": ".py",
   "mimetype": "text/x-python",
   "name": "python",
   "nbconvert_exporter": "python",
   "pygments_lexer": "ipython2",
   "version": "2.7.13"
  }
 },
 "nbformat": 4,
 "nbformat_minor": 2
}
