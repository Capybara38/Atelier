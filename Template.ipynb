{
 "cells": [
  {
   "cell_type": "markdown",
   "metadata": {},
   "source": [
    "# Nom du script (opérations + données utilisées) \n",
    "### Présentation et justification \n",
    "__Fonction utilisée, paramètres de la fonction et leurs description__\n",
    "\n",
    "<!-- \n",
    "Paramètres | Valeur | Description\n",
    ":-----: | :-----: | :-----:\n",
    "**-of** | Gtiff | Format de sortie GeoTiff\n",
    "**-ot** | Int16 | Type de raster (Entier 16 bits)\n",
    "**-t_srs** | EPSG:2154 | nouveau système de projection (Lambert93)\n",
    "**-r** | cubic | type de ré-échantilonage \n",
    "**-dstnodata** | 0 | pas de valeurs nulles \n",
    "**-tap -cutline** | limites_pnrv.shp | shapefile de découpe\n",
    "**-tr** | 250.0 250.0 | résolution de l'image en sortie \n",
    "**-crop_to_cutline** | |découpe l'image \n",
    "\n",
    "__Variables créées :__\n",
    "-->\n",
    "\n"
   ]
  },
  {
   "cell_type": "markdown",
   "metadata": {},
   "source": [
    "###### Readme\n",
    "<i><span style=\"color:green\"> ## je suis un commentaire </span></i>\n",
    "<br>\n",
    "<b><span style=\"color:green\"> je suis une fonction </span></b>\n",
    "<br>\n",
    "<span style=\"color:red\"> \"je suis une chaine de caractère\" </span>\n",
    "\n",
    "\n",
    "    "
   ]
  },
  {
   "cell_type": "code",
   "execution_count": 16,
   "metadata": {},
   "outputs": [
    {
     "name": "stdout",
     "output_type": "stream",
     "text": [
      "les marmottes sont là\n"
     ]
    }
   ],
   "source": [
    "## voici le code \n",
    "\n",
    "## importer les librairies\n",
    "\n",
    "import sys  ##la librarie sys sert à ...\n",
    "sys.version ##je veux savoir quelle version de python j'utilise \n",
    "\n",
    "## Les variables \n",
    "\n",
    "marmotte = 2\n",
    "\n",
    "## Je veux savoir si les marmottes sont là ou si elles hibernent \n",
    "\n",
    "if marmotte >= 1:\n",
    "    print \"les marmottes sont là\"\n",
    "else:\n",
    "    print \"elles hibernent\""
   ]
  },
  {
   "cell_type": "code",
   "execution_count": 6,
   "metadata": {
    "scrolled": true
   },
   "outputs": [
    {
     "ename": "TypeError",
     "evalue": "'int' object is not iterable",
     "output_type": "error",
     "traceback": [
      "\u001b[0;31m---------------------------------------------------------------------------\u001b[0m",
      "\u001b[0;31mTypeError\u001b[0m                                 Traceback (most recent call last)",
      "\u001b[0;32m<ipython-input-6-3a4a01989e2a>\u001b[0m in \u001b[0;36m<module>\u001b[0;34m()\u001b[0m\n\u001b[1;32m     12\u001b[0m         \u001b[0mos\u001b[0m\u001b[0;34m.\u001b[0m\u001b[0msystem\u001b[0m\u001b[0;34m(\u001b[0m\u001b[0;34m\"cp ../../../limte.shp ./\"\u001b[0m\u001b[0;34m)\u001b[0m\u001b[0;34m\u001b[0m\u001b[0m\n\u001b[1;32m     13\u001b[0m         \u001b[0mfilelist\u001b[0m \u001b[0;34m=\u001b[0m \u001b[0mos\u001b[0m\u001b[0;34m.\u001b[0m\u001b[0msystem\u001b[0m\u001b[0;34m(\u001b[0m\u001b[0;34m\"./*.tif\"\u001b[0m\u001b[0;34m)\u001b[0m\u001b[0;34m\u001b[0m\u001b[0m\n\u001b[0;32m---> 14\u001b[0;31m         \u001b[0;32mfor\u001b[0m \u001b[0mmodisFile\u001b[0m \u001b[0;32min\u001b[0m \u001b[0mfilelist\u001b[0m\u001b[0;34m:\u001b[0m\u001b[0;34m\u001b[0m\u001b[0m\n\u001b[0m\u001b[1;32m     15\u001b[0m                 \u001b[0mos\u001b[0m\u001b[0;34m.\u001b[0m\u001b[0msystem\u001b[0m\u001b[0;34m(\u001b[0m\u001b[0mdecoup\u001b[0m\u001b[0;34m.\u001b[0m\u001b[0mformat\u001b[0m\u001b[0;34m(\u001b[0m\u001b[0mmodisfile\u001b[0m\u001b[0;34m)\u001b[0m\u001b[0;34m)\u001b[0m\u001b[0;34m\u001b[0m\u001b[0m\n\u001b[1;32m     16\u001b[0m                 \u001b[0mascFileName\u001b[0m \u001b[0;34m=\u001b[0m \u001b[0mmodisFile\u001b[0m\u001b[0;34m.\u001b[0m\u001b[0msplit\u001b[0m\u001b[0;34m(\u001b[0m\u001b[0;34m'.'\u001b[0m\u001b[0;34m)\u001b[0m\u001b[0;34m[\u001b[0m\u001b[0;36m0\u001b[0m\u001b[0;34m]\u001b[0m \u001b[0;34m+\u001b[0m \u001b[0;34m'.asc'\u001b[0m\u001b[0;34m\u001b[0m\u001b[0m\n",
      "\u001b[0;31mTypeError\u001b[0m: 'int' object is not iterable"
     ]
    }
   ],
   "source": [
    "import os\n",
    "\n",
    "decoup = \"gdalwarp -of GTiff -ot Int16 -t_srs EPSG:2154 -r cubic -dstnodata 0 -tap -cutline 'Limites-PNR-Vercors.shp' -tr 250.0 250.0 -crop_to_cutline {} decoup/{}\"\n",
    "convert = \"gdal_translate -of AAIGrid -ot Int16 {} {}\"\n",
    "\n",
    "\n",
    "dirlist = os.listdir('./')\n",
    "listFile = os.system(\"touch liste.txt\")\n",
    "\n",
    "for directory in dirlist:\n",
    "\tos.system(\"cd {}/pheno.format(directory)\")\n",
    "\tos.system(\"cp ../../../limte.shp ./\")\n",
    "\tfilelist = os.system(\"./*.tif\")\n",
    "\tfor modisFile in filelist:\n",
    "\t\tos.system(decoup.format(modisfile))\n",
    "\t\tascFileName = modisFile.split('.')[0] + '.asc'\n",
    "\t\tos.system(convert.format(modisFile, ascFileName))\n",
    "\t\tfilePath = os.path.abspath(os.path.dirname (_file_)) \n",
    "\t\tliste = open(filePath, \"a\")\n",
    "\t\tliste.write(ascFileName)"
   ]
  },
  {
   "cell_type": "code",
   "execution_count": null,
   "metadata": {
    "collapsed": true
   },
   "outputs": [],
   "source": []
  }
 ],
 "metadata": {
  "kernelspec": {
   "display_name": "Python 2",
   "language": "python",
   "name": "python2"
  },
  "language_info": {
   "codemirror_mode": {
    "name": "ipython",
    "version": 2
   },
   "file_extension": ".py",
   "mimetype": "text/x-python",
   "name": "python",
   "nbconvert_exporter": "python",
   "pygments_lexer": "ipython2",
   "version": "2.7.13"
  }
 },
 "nbformat": 4,
 "nbformat_minor": 2
}
