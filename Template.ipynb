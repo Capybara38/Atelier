{
 "cells": [
  {
   "cell_type": "markdown",
   "metadata": {},
   "source": [
    "# Nom du script (opérations + données utilisées) \n",
    "### Présentation et justification \n",
    "__Fonction utilisée, paramètres de la fonction et leurs description__\n",
    "\n",
    "<!-- \n",
    "Paramètres | Valeur | Description\n",
    ":-----: | :-----: | :-----:\n",
    "**-of** | Gtiff | Format de sortie GeoTiff\n",
    "**-ot** | Int16 | Type de raster (Entier 16 bits)\n",
    "**-t_srs** | EPSG:2154 | nouveau système de projection (Lambert93)\n",
    "**-r** | cubic | type de ré-échantilonage \n",
    "**-dstnodata** | 0 | pas de valeurs nulles \n",
    "**-tap -cutline** | limites_pnrv.shp | shapefile de découpe\n",
    "**-tr** | 250.0 250.0 | résolution de l'image en sortie \n",
    "**-crop_to_cutline** | |découpe l'image \n",
    "\n",
    "__Variables créées :__\n",
    "-->\n",
    "\n"
   ]
  },
  {
   "cell_type": "markdown",
   "metadata": {},
   "source": [
    "###### Readme\n",
    "<i><span style=\"color:green\"> ## je suis un commentaire </span></i>\n",
    "<br>\n",
    "<b><span style=\"color:green\"> je suis une fonction </span></b>\n",
    "<br>\n",
    "<span style=\"color:red\"> \"je suis une chaine de caractère\" </span>\n",
    "\n",
    "\n",
    "    "
   ]
  },
  {
   "cell_type": "code",
   "execution_count": 16,
   "metadata": {},
   "outputs": [
    {
     "name": "stdout",
     "output_type": "stream",
     "text": [
      "les marmottes sont là\n"
     ]
    }
   ],
   "source": [
    "## voici le code \n",
    "\n",
    "## importer les librairies\n",
    "\n",
    "import sys  ##la librarie sys sert à ...\n",
    "sys.version ##je veux savoir quelle version de python j'utilise \n",
    "\n",
    "## Les variables \n",
    "\n",
    "marmotte = 2\n",
    "\n",
    "## Je veux savoir si les marmottes sont là ou si elles hibernent \n",
    "\n",
    "if marmotte >= 1:\n",
    "    print \"les marmottes sont là\"\n",
    "else:\n",
    "    print \"elles hibernent\""
   ]
  },
  {
   "cell_type": "markdown",
   "metadata": {
    "scrolled": true
   },
   "source": [
    "### Essai HTML\n",
    "\n"
   ]
  },
  {
   "cell_type": "code",
   "execution_count": null,
   "metadata": {
    "collapsed": true
   },
   "outputs": [],
   "source": []
  }
 ],
 "metadata": {
  "kernelspec": {
   "display_name": "Python 2",
   "language": "python",
   "name": "python2"
  },
  "language_info": {
   "codemirror_mode": {
    "name": "ipython",
    "version": 2
   },
   "file_extension": ".py",
   "mimetype": "text/x-python",
   "name": "python",
   "nbconvert_exporter": "python",
   "pygments_lexer": "ipython2",
   "version": "2.7.13"
  }
 },
 "nbformat": 4,
 "nbformat_minor": 2
}
