{
 "cells": [
  {
   "cell_type": "markdown",
   "metadata": {},
   "source": [
    "# Découpe et reprojection des images MODIS\n",
    "\n"
   ]
  },
  {
   "cell_type": "markdown",
   "metadata": {},
   "source": [
    "## Présentation générale\n",
    "### Pourquoi ce script \n",
    "\n",
    "1. Coohérence des systèmes de projection\n",
    "2. Optimiser l'espace de stockage\n",
    "3. Facilité de traitement \n",
    "\n",
    "\n",
    "### Présentation du script \n",
    "\n",
    "__Librairie utilisée__: GDAL \n",
    "<br>\n",
    "__Fonction utilisée__ : gdalwarp \n",
    "<br>\n",
    "__Paramètres de la fonction__ :\n",
    "\n",
    "Paramètres | Valeur | Description\n",
    ":-----: | :-----: | :-----:\n",
    "**-of** | Gtiff | Format de sortie GeoTiff\n",
    "**-ot** | Int16 | Type de raster (Entier 16 bits)\n",
    "**-t_srs** | EPSG:2154 | nouveau système de projection (Lambert93)\n",
    "**-r** | cubic | type de ré-échantilonage \n",
    "**-dstnodata** | 0 | pas de valeurs nulles \n",
    "**-tap -cutline** | limites_pnrv.shp | shapefile de découpe\n",
    "**-tr** | 250.0 250.0 | résolution de l'image en sortie \n",
    "**-crop_to_cutline** | |découpe l'image\n"
   ]
  },
  {
   "cell_type": "code",
   "execution_count": null,
   "metadata": {
    "collapsed": true
   },
   "outputs": [],
   "source": []
  },
  {
   "cell_type": "code",
   "execution_count": null,
   "metadata": {
    "collapsed": true
   },
   "outputs": [],
   "source": [
    "import os\n",
    "\n",
    "decoup = \"gdalwarp -of GTiff -ot Int16 -t_srs EPSG:2154 -r cubic -dstnodata 0 -tap -cutline 'Limites-PNR-Vercors.shp' -tr 250.0 250.0 -crop_to_cutline {} decoup/{}\"\n",
    "convert = \"gdal_translate -of AAIGrid -ot Int16 {} {}\"\n",
    "\n",
    "\n",
    "dirlist = os.listdir('./')\n",
    "listFile = os.system(\"touch liste.txt\")\n",
    "\n",
    "for directory in dirlist:\n",
    "\tos.system(\"cd {}/pheno.format(directory)\")\n",
    "\tos.system(\"cp ../../../limte.shp ./\")\n",
    "\tfilelist = os.system(\"./*.tif\")\n",
    "\tfor modisFile in filelist:\n",
    "\t\tos.system(decoup.format(modisfile))\n",
    "\t\tascFileName = modisFile.split('.')[0] + '.asc'\n",
    "\t\tos.system(convert.format(modisFile, ascFileName))\n",
    "\t\tfilePath = os.path.abspath(os.path.dirname (_file_)) \n",
    "\t\tliste = open(filePath, \"a\")\n",
    "\t\tliste.write(ascFileName)"
   ]
  },
  {
   "cell_type": "markdown",
   "metadata": {},
   "source": []
  },
  {
   "cell_type": "code",
   "execution_count": null,
   "metadata": {
    "collapsed": true
   },
   "outputs": [],
   "source": []
  }
 ],
 "metadata": {
  "kernelspec": {
   "display_name": "Python 2",
   "language": "python",
   "name": "python2"
  },
  "language_info": {
   "codemirror_mode": {
    "name": "ipython",
    "version": 2
   },
   "file_extension": ".py",
   "mimetype": "text/x-python",
   "name": "python",
   "nbconvert_exporter": "python",
   "pygments_lexer": "ipython2",
   "version": "2.7.13"
  }
 },
 "nbformat": 4,
 "nbformat_minor": 2
}
