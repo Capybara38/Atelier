{
 "cells": [
  {
   "cell_type": "markdown",
   "metadata": {},
   "source": [
    "### téléchargement des images Sentinel-2\n",
    "\n",
    "informations sur les bandes \n",
    "http://www.gdal.org/frmt_sentinel2.html\n",
    "\n",
    "source : https://github.com/olivierhagolle/theia_download \n",
    "<br>\n",
    "Code créé par Olivier Hagolle\n"
   ]
  },
  {
   "cell_type": "code",
   "execution_count": null,
   "metadata": {
    "collapsed": true
   },
   "outputs": [],
   "source": [
    "## Ajouter identifiants dans le fichier cfg\n",
    "python ./theia_download.py -t Identifiant de la tuile  -c SENTINEL2 -a config_theia.cfg -d date_debut -f date_fin\n"
   ]
  },
  {
   "cell_type": "code",
   "execution_count": null,
   "metadata": {
    "collapsed": true
   },
   "outputs": [],
   "source": [
    "##blablaca marche pas"
   ]
  }
 ],
 "metadata": {
  "kernelspec": {
   "display_name": "Python 2",
   "language": "python",
   "name": "python2"
  },
  "language_info": {
   "codemirror_mode": {
    "name": "ipython",
    "version": 2
   },
   "file_extension": ".py",
   "mimetype": "text/x-python",
   "name": "python",
   "nbconvert_exporter": "python",
   "pygments_lexer": "ipython2",
   "version": "2.7.13"
  }
 },
 "nbformat": 4,
 "nbformat_minor": 2
}
