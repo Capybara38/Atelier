{
 "cells": [
  {
   "cell_type": "markdown",
   "metadata": {},
   "source": [
    "### téléchargement des images Sentinel-2\n",
    "\n",
    "informations sur les bandes \n",
    "http://www.gdal.org/frmt_sentinel2.html\n",
    "\n",
    "source : https://github.com/olivierhagolle/theia_download \n",
    "<br>\n",
    "Code créé par Olivier Hagolle\n",
    "\n",
    "| Paramètres | valeur | Description |\n",
    "|:-----------:|:------:|:-----------:|\n",
    "| -t | 31TFK | ID de la tuile |\n",
    "| -c | SENTINEL2 | Capteur |\n",
    "| -a | config_theia.cfg | fichier contenant les identifiants |\n",
    "|-d | | date de début |\n",
    "| -f | | date de fin |\n",
    "\n"
   ]
  },
  {
   "cell_type": "code",
   "execution_count": 2,
   "metadata": {},
   "outputs": [
    {
     "data": {
      "text/plain": [
       "65024"
      ]
     },
     "execution_count": 2,
     "metadata": {},
     "output_type": "execute_result"
    }
   ],
   "source": [
    "## telechargement de images entre mars et octobre 2015 \n",
    "import os\n",
    "os.system(\"python ../theia_download/theia_download.py -t T31TFK  -c SENTINEL2 -a config_theia.cfg -d 2015-03-01 -f 2015-11-01\")\n",
    "## fichier config modifié avec login Gwen\n",
    "\n",
    "## file theia_download-master a la racine \n",
    "## se mettre dans le file pour lancer commande \n"
   ]
  },
  {
   "cell_type": "code",
   "execution_count": null,
   "metadata": {
    "collapsed": true
   },
   "outputs": [],
   "source": [
    "##blablaca marche pas\n",
    "\n"
   ]
  },
  {
   "cell_type": "code",
   "execution_count": null,
   "metadata": {
    "collapsed": true
   },
   "outputs": [],
   "source": [
    "##Dézipper les images \n",
    "## dans theia_download on dezip dans temp\n",
    "\n",
    "unzip file.zip -d ../temp \n",
    "\n",
    "##move les bandes B2 B3 B4 B8 dans raw_data\n",
    "\n",
    "mv -t ../raw_data *B2.tif *B3.tif *B4.tif *B8.tif\n",
    "\n",
    "## delete files dans temp\n",
    "\n",
    "rm -rf ../temp/*\n",
    "\n",
    "\n",
    "##Faire le calcul du NDVI avec les bandes B4 (rouge) et B8 (Infrarouge)\n",
    "##NDVI = (NIR - Red) / (NIR + Red)\n",
    "\n",
    "bandMath \n",
    "\n",
    "\n",
    "## enregistrement des bandes NDVI dans un nouveau fichier par année \n",
    "\n"
   ]
  }
 ],
 "metadata": {
  "kernelspec": {
   "display_name": "Python 2",
   "language": "python",
   "name": "python2"
  },
  "language_info": {
   "codemirror_mode": {
    "name": "ipython",
    "version": 2
   },
   "file_extension": ".py",
   "mimetype": "text/x-python",
   "name": "python",
   "nbconvert_exporter": "python",
   "pygments_lexer": "ipython2",
   "version": "2.7.13"
  }
 },
 "nbformat": 4,
 "nbformat_minor": 2
}
